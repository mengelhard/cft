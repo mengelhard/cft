{
 "cells": [
  {
   "cell_type": "code",
   "execution_count": 1,
   "metadata": {},
   "outputs": [],
   "source": [
    "import numpy as np\n",
    "import pandas as pd\n",
    "import matplotlib.pyplot as plt"
   ]
  },
  {
   "cell_type": "code",
   "execution_count": 22,
   "metadata": {},
   "outputs": [],
   "source": [
    "synthetic = pd.read_csv('../results/results_henao/synthetic_1580965994.csv')\n",
    "synthetic = synthetic.rename(columns=lambda x: x.strip())"
   ]
  },
  {
   "cell_type": "code",
   "execution_count": 23,
   "metadata": {},
   "outputs": [],
   "source": [
    "mimic = pd.read_csv('../results/results_henao/mimic_1580877802.csv')\n",
    "mimic = mimic.iloc[np.array(range(0, 20, 2)), :]\n",
    "mimic = mimic.rename(columns=lambda x: x.strip())"
   ]
  },
  {
   "cell_type": "code",
   "execution_count": 24,
   "metadata": {},
   "outputs": [],
   "source": [
    "reddit = pd.read_csv('../results/results_henao/reddit_1580933275.csv')\n",
    "reddit = reddit.iloc[np.array(range(0, 20, 2)), :]\n",
    "reddit = reddit.rename(columns=lambda x: x.strip())"
   ]
  },
  {
   "cell_type": "code",
   "execution_count": 25,
   "metadata": {},
   "outputs": [],
   "source": [
    "synthetic_baselines = pd.read_csv('../results/results_henao/synthetic_baselines_1580966689.csv')\n",
    "synthetic_baselines = synthetic_baselines.rename(columns=lambda x: x.strip())"
   ]
  },
  {
   "cell_type": "code",
   "execution_count": 50,
   "metadata": {},
   "outputs": [
    {
     "data": {
      "text/plain": [
       "Index(['status', 'fpr', 'n_samples', 'gs_temperature', 'hidden_layer_size',\n",
       "       'estimator', 'censoring_factor', 'n_iter', 'final_train_nll',\n",
       "       'final_val_nll', 'mean_auc', 'auc0', 'auc1', 'auc2', 'auc3', 'auc4',\n",
       "       'auc5', 'auc6', 'auc7', 'auc8', 'mean_raem', 'raem0', 'raem1', 'raem2',\n",
       "       'raem3', 'raem4', 'raem5', 'raem6', 'raem7', 'raem8', 'mean_raea',\n",
       "       'raea0', 'raea1', 'raea2', 'raea3', 'raea4', 'raea5', 'raea6', 'raea7',\n",
       "       'raea8', 'mean_ci', 'ci0', 'ci1', 'ci2', 'ci3', 'ci4', 'ci5', 'ci6',\n",
       "       'ci7', 'ci8'],\n",
       "      dtype='object')"
      ]
     },
     "execution_count": 50,
     "metadata": {},
     "output_type": "execute_result"
    }
   ],
   "source": [
    "reddit.columns"
   ]
  },
  {
   "cell_type": "code",
   "execution_count": 26,
   "metadata": {},
   "outputs": [],
   "source": [
    "mimic_baselines = pd.read_csv('../results/results_rapidshare/mimic_baselines_1580932980.csv')[:30]\n",
    "mimic_baselines = mimic_baselines.rename(columns=lambda x: x.strip())"
   ]
  },
  {
   "cell_type": "code",
   "execution_count": 27,
   "metadata": {},
   "outputs": [],
   "source": [
    "reddit_baselines = pd.read_csv('../results/results_rapidshare/reddit_baselines_1580932800.csv')[:30]\n",
    "reddit_baselines = reddit_baselines.rename(columns=lambda x: x.strip())"
   ]
  },
  {
   "cell_type": "code",
   "execution_count": 58,
   "metadata": {},
   "outputs": [],
   "source": [
    "def stack_metric(df, metric, num, model, dataset):\n",
    "    dfs = df[['%s%i' % (metric, i) for i in range(num)]].stack().reset_index()[['level_1', 0]]\n",
    "    dfs.columns = ['task', metric]\n",
    "    dfs[metric] = dfs[metric].astype(float)\n",
    "    dfs['model'] = model\n",
    "    dfs['dataset'] = dataset\n",
    "    return dfs"
   ]
  },
  {
   "cell_type": "code",
   "execution_count": 29,
   "metadata": {},
   "outputs": [],
   "source": [
    "import seaborn as sns"
   ]
  },
  {
   "cell_type": "code",
   "execution_count": 76,
   "metadata": {},
   "outputs": [
    {
     "data": {
      "image/png": "[encoded data removed]",
      "text/plain": [
       "<Figure size 576x288 with 2 Axes>"
      ]
     },
     "metadata": {},
     "output_type": "display_data"
    }
   ],
   "source": [
    "fig, ax = plt.subplots(1, 2, figsize=(8, 4))\n",
    "sns.set_style(\"whitegrid\")\n",
    "\n",
    "data = pd.concat([stack_metric(synthetic, 'auc', 2, 'CET', 'Synthetic'),\n",
    "                  stack_metric(synthetic_baselines[synthetic_baselines['model_type'] == ' survival'], 'auc', 2, 'ET', 'Synthetic'),\n",
    "                  stack_metric(synthetic_baselines[synthetic_baselines['model_type'] == ' s_mlp'], 'auc', 2, 'BC', 'Synthetic'),\n",
    "                  stack_metric(mimic, 'auc', 10, 'CET', 'MIMIC'),\n",
    "                  stack_metric(mimic_baselines[mimic_baselines['model_type'] == ' survival'], 'auc', 10, 'ET', 'MIMIC'),\n",
    "                  stack_metric(mimic_baselines[mimic_baselines['model_type'] == ' s_mlp'], 'auc', 10, 'BC', 'MIMIC'),\n",
    "                  stack_metric(reddit, 'auc', 9, 'CET', 'reddit'),\n",
    "                  stack_metric(reddit_baselines[reddit_baselines['model_type'] == ' survival'], 'auc', 9, 'ET', 'reddit'),\n",
    "                  stack_metric(reddit_baselines[reddit_baselines['model_type'] == ' s_mlp'], 'auc', 9, 'BC', 'reddit')],\n",
    "                axis=0)\n",
    "\n",
    "sns.boxplot(x='dataset', y='auc', hue='model', data=data, ax=ax[0], linewidth=0.5, width=.6)\n",
    "ax[0].set_ylabel('AUC', fontsize=12)\n",
    "ax[0].set_xlabel('')\n",
    "ax[0].set_ylim([.5, 1.])\n",
    "\n",
    "data = pd.concat([stack_metric(synthetic, 'raem', 2, 'CET', 'Synthetic'),\n",
    "                  stack_metric(synthetic_baselines[synthetic_baselines['model_type'] == ' survival'], 'raem', 2, 'ET', 'Synthetic'),\n",
    "                  stack_metric(mimic, 'raem', 10, 'CET', 'MIMIC'),\n",
    "                  stack_metric(mimic_baselines[mimic_baselines['model_type'] == ' survival'], 'raem', 10, 'ET', 'MIMIC'),\n",
    "                  stack_metric(reddit, 'raem', 9, 'CET', 'reddit'),\n",
    "                  stack_metric(reddit_baselines[reddit_baselines['model_type'] == ' survival'], 'raem', 9, 'ET', 'reddit')],\n",
    "                axis=0)\n",
    "\n",
    "sns.boxplot(x='dataset', y='raem', hue='model', data=data, ax=ax[1], linewidth=0.5, width=.4)\n",
    "ax[1].set_ylim([1e-3, 1e7])\n",
    "ax[1].set_yscale('log')\n",
    "ax[1].set_ylabel('MRAE', fontsize=12)\n",
    "ax[1].set_xlabel('')\n",
    "ax[1].set_yticks([1e-2, 1e0, 1e2, 1e4, 1e6])\n",
    "\n",
    "plt.tight_layout()\n",
    "plt.savefig('/Users/mme/Downloads/fig3.pdf')\n",
    "plt.show()"
   ]
  },
  {
   "cell_type": "code",
   "execution_count": 56,
   "metadata": {},
   "outputs": [
    {
     "data": {
      "text/plain": [
       "array([['raem0', 0.06939694344755737, 'CET', 'Synth'],\n",
       "       ['raem1', 0.0665862898529525, 'CET', 'Synth'],\n",
       "       ['raem0', 0.07210119634483174, 'CET', 'Synth'],\n",
       "       ...,\n",
       "       ['raem6', ' 8.414668673434887', 'ET', 'reddit'],\n",
       "       ['raem7', ' 5.009405593731226', 'ET', 'reddit'],\n",
       "       ['raem8', ' 12.623601646428542', 'ET', 'reddit']], dtype=object)"
      ]
     },
     "execution_count": 56,
     "metadata": {},
     "output_type": "execute_result"
    }
   ],
   "source": [
    "data = pd.concat([stack_metric(synthetic, 'raem', 2, 'CET', 'Synth'),\n",
    "                  stack_metric(synthetic_baselines[synthetic_baselines['model_type'] == ' survival'], 'raem', 2, 'ET', 'Synth'),\n",
    "                  stack_metric(mimic, 'raem', 10, 'CET', 'MIMIC'),\n",
    "                  stack_metric(mimic_baselines[mimic_baselines['model_type'] == ' survival'], 'raem', 10, 'ET', 'MIMIC'),\n",
    "                  stack_metric(reddit, 'raem', 9, 'CET', 'reddit'),\n",
    "                  stack_metric(reddit_baselines[reddit_baselines['model_type'] == ' survival'], 'raem', 9, 'ET', 'reddit')],\n",
    "                axis=0)\n",
    "data.values"
   ]
  },
  {
   "cell_type": "code",
   "execution_count": 32,
   "metadata": {},
   "outputs": [
    {
     "data": {
      "text/html": [
       "<div>\n",
       "<style scoped>\n",
       "    .dataframe tbody tr th:only-of-type {\n",
       "        vertical-align: middle;\n",
       "    }\n",
       "\n",
       "    .dataframe tbody tr th {\n",
       "        vertical-align: top;\n",
       "    }\n",
       "\n",
       "    .dataframe thead th {\n",
       "        text-align: right;\n",
       "    }\n",
       "</style>\n",
       "<table border=\"1\" class=\"dataframe\">\n",
       "  <thead>\n",
       "    <tr style=\"text-align: right;\">\n",
       "      <th></th>\n",
       "      <th>task</th>\n",
       "      <th>auc</th>\n",
       "      <th>model</th>\n",
       "      <th>dataset</th>\n",
       "    </tr>\n",
       "  </thead>\n",
       "  <tbody>\n",
       "  </tbody>\n",
       "</table>\n",
       "</div>"
      ],
      "text/plain": [
       "Empty DataFrame\n",
       "Columns: [task, auc, model, dataset]\n",
       "Index: []"
      ]
     },
     "execution_count": 32,
     "metadata": {},
     "output_type": "execute_result"
    }
   ],
   "source": [
    "stack_metric(mimic_baselines[mimic_baselines['model_type'] == 's_mlp'], 'auc', 10, 'BC', 'M')"
   ]
  },
  {
   "cell_type": "code",
   "execution_count": 35,
   "metadata": {},
   "outputs": [
    {
     "data": {
      "text/plain": [
       "' survival'"
      ]
     },
     "execution_count": 35,
     "metadata": {},
     "output_type": "execute_result"
    }
   ],
   "source": [
    "mimic_baselines['model_type'].value_counts().index[1]"
   ]
  },
  {
   "cell_type": "code",
   "execution_count": null,
   "metadata": {},
   "outputs": [],
   "source": []
  }
 ],
 "metadata": {
  "kernelspec": {
   "display_name": "Python 3",
   "language": "python",
   "name": "python3"
  },
  "language_info": {
   "codemirror_mode": {
    "name": "ipython",
    "version": 3
   },
   "file_extension": ".py",
   "mimetype": "text/x-python",
   "name": "python",
   "nbconvert_exporter": "python",
   "pygments_lexer": "ipython3",
   "version": "3.7.4"
  }
 },
 "nbformat": 4,
 "nbformat_minor": 2
}
