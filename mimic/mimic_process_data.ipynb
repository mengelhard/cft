{
 "cells": [
  {
   "cell_type": "code",
   "execution_count": 1,
   "metadata": {},
   "outputs": [],
   "source": [
    "import pandas as pd\n",
    "import numpy as np\n",
    "import matplotlib.pyplot as plt\n",
    "\n",
    "lab_event_dict = pd.read_csv('/Users/mme/Downloads/D_LABITEMS.csv').set_index('ITEMID')['LABEL'].to_dict()\n",
    "chart_event_dict = pd.read_csv('/Users/mme/Downloads/D_ITEMS.csv').set_index('ITEMID')['LABEL'].to_dict()\n",
    "all_event_dict = {**lab_event_dict, **chart_event_dict}"
   ]
  },
  {
   "cell_type": "code",
   "execution_count": 2,
   "metadata": {},
   "outputs": [],
   "source": [
    "lab_event_labels = ['WBC, CSF', 'Troponin T', 'Intubated', 'WBC, Pleural',\n",
    "                    'Thyroid Stimulating Hormone', 'D-Dimer', 'Urobilinogen',\n",
    "                    'Anti-Nuclear Antibody', 'Ammonia', 'Lipase']"
   ]
  },
  {
   "cell_type": "code",
   "execution_count": 3,
   "metadata": {
    "scrolled": true
   },
   "outputs": [
    {
     "name": "stdout",
     "output_type": "stream",
     "text": [
      "[('WBC, CSF', [51363]), ('Troponin T', [51003]), ('Intubated', [50812]), ('WBC, Pleural', [51458]), ('Thyroid Stimulating Hormone', [50993]), ('D-Dimer', [50915, 51196]), ('Urobilinogen', [51514]), ('Anti-Nuclear Antibody', [50873]), ('Ammonia', [50866]), ('Lipase', [50956])]\n"
     ]
    }
   ],
   "source": [
    "lab_event_ids = [[i for i, lbl in lab_event_dict.items() if lbl == l] for l in lab_event_labels]\n",
    "print(list(zip(lab_event_labels, lab_event_ids)))"
   ]
  },
  {
   "cell_type": "code",
   "execution_count": 41,
   "metadata": {},
   "outputs": [],
   "source": [
    "labevents = pd.read_csv(\n",
    "    '/Users/mme/Downloads/LABEVENTS.csv',\n",
    "    usecols=['HADM_ID', 'ITEMID', 'CHARTTIME', 'VALUE', 'VALUENUM'],\n",
    "    dtype={'HADM_ID': float, 'ITEMID': int, 'CHARTTIME': str, 'VALUE': object, 'VALUENUM': float})\n",
    "labevents = labevents[~labevents['HADM_ID'].isna()]\n",
    "labevents['HADM_ID'] = labevents['HADM_ID'].astype(int)"
   ]
  },
  {
   "cell_type": "code",
   "execution_count": 5,
   "metadata": {},
   "outputs": [],
   "source": [
    "chartevents = pd.read_csv(\n",
    "    '/Users/mme/Downloads/CHARTEVENTS.csv',\n",
    "    usecols=['HADM_ID', 'ITEMID', 'CHARTTIME', 'VALUE', 'VALUENUM'],\n",
    "    dtype={'HADM_ID': int, 'ITEMID': int, 'CHARTTIME': str, 'VALUE': object, 'VALUENUM': float})\n",
    "chartevents = chartevents[~chartevents['HADM_ID'].isna()]"
   ]
  },
  {
   "cell_type": "code",
   "execution_count": 6,
   "metadata": {},
   "outputs": [
    {
     "name": "stdout",
     "output_type": "stream",
     "text": [
      "Total admissions in the dataset: (56927,)\n"
     ]
    }
   ],
   "source": [
    "# Identify hadm_id in both chartevents and labevents\n",
    "\n",
    "hadm_ids = list(set(chartevents['HADM_ID'].unique()) & set(labevents['HADM_ID'].unique()))\n",
    "hadm_ids = np.random.permutation(hadm_ids)\n",
    "print('Total admissions in the dataset:', np.shape(hadm_ids))"
   ]
  },
  {
   "cell_type": "code",
   "execution_count": 7,
   "metadata": {},
   "outputs": [
    {
     "name": "stdout",
     "output_type": "stream",
     "text": [
      "With batch size of 400, there are 142.3 batches\n"
     ]
    }
   ],
   "source": [
    "print('With batch size of 400, there are %.1f batches' % (len(hadm_ids) / 400))"
   ]
  },
  {
   "cell_type": "code",
   "execution_count": 8,
   "metadata": {},
   "outputs": [],
   "source": [
    "def get_batch(batch_size, arr):\n",
    "    l = len(arr)\n",
    "    for ndx in range(0, l, batch_size):\n",
    "        yield arr[ndx:min(ndx + batch_size, l)]"
   ]
  },
  {
   "cell_type": "code",
   "execution_count": 14,
   "metadata": {},
   "outputs": [],
   "source": [
    "first_event_dict = chartevents.groupby('HADM_ID')['CHARTTIME'].min().to_dict()"
   ]
  },
  {
   "cell_type": "code",
   "execution_count": 70,
   "metadata": {},
   "outputs": [],
   "source": [
    "admission_time = pd.read_csv('/Users/mme/Downloads/ADMISSIONS.csv').set_index('HADM_ID')['ADMITTIME'].to_dict()"
   ]
  },
  {
   "cell_type": "code",
   "execution_count": 9,
   "metadata": {},
   "outputs": [],
   "source": [
    "# Identify top 80 chart event features\n",
    "chartevent_itemids = chartevents['ITEMID'].value_counts().index[:80]"
   ]
  },
  {
   "cell_type": "code",
   "execution_count": 19,
   "metadata": {},
   "outputs": [],
   "source": [
    "#determine which chartevents are numeric vs nonnumeric\n",
    "\n",
    "chartevents_nonnumeric_vcs = chartevents[chartevents['VALUENUM'].isna()]['ITEMID'].value_counts()\n",
    "chartevents_numeric_vcs = chartevents[~chartevents['VALUENUM'].isna()]['ITEMID'].value_counts()"
   ]
  },
  {
   "cell_type": "code",
   "execution_count": 42,
   "metadata": {},
   "outputs": [
    {
     "ename": "KeyboardInterrupt",
     "evalue": "",
     "output_type": "error",
     "traceback": [
      "\u001b[0;31m---------------------------------------------------------------------------\u001b[0m",
      "\u001b[0;31mKeyboardInterrupt\u001b[0m                         Traceback (most recent call last)",
      "\u001b[0;32m<ipython-input-42-8edcc428f395>\u001b[0m in \u001b[0;36m<module>\u001b[0;34m\u001b[0m\n\u001b[0;32m----> 1\u001b[0;31m \u001b[0mchartevents_vcs\u001b[0m \u001b[0;34m=\u001b[0m \u001b[0mnumeric_nonnumeric\u001b[0m\u001b[0;34m(\u001b[0m\u001b[0mchartevents\u001b[0m\u001b[0;34m)\u001b[0m\u001b[0;34m[\u001b[0m\u001b[0;34m:\u001b[0m\u001b[0;36m80\u001b[0m\u001b[0;34m]\u001b[0m\u001b[0;34m\u001b[0m\u001b[0;34m\u001b[0m\u001b[0m\n\u001b[0m\u001b[1;32m      2\u001b[0m \u001b[0;34m\u001b[0m\u001b[0m\n\u001b[1;32m      3\u001b[0m \u001b[0mchartevent_numeric_itemids\u001b[0m \u001b[0;34m=\u001b[0m \u001b[0mchartevents_vcs\u001b[0m\u001b[0;34m.\u001b[0m\u001b[0mindex\u001b[0m\u001b[0;34m[\u001b[0m\u001b[0mchartevents_vcs\u001b[0m\u001b[0;34m[\u001b[0m\u001b[0;34m'prop_numeric'\u001b[0m\u001b[0;34m]\u001b[0m \u001b[0;34m>\u001b[0m \u001b[0;36m.5\u001b[0m\u001b[0;34m]\u001b[0m\u001b[0;34m\u001b[0m\u001b[0;34m\u001b[0m\u001b[0m\n\u001b[1;32m      4\u001b[0m \u001b[0mchartevent_nonnumeric_itemids\u001b[0m \u001b[0;34m=\u001b[0m \u001b[0mchartevents_vcs\u001b[0m\u001b[0;34m.\u001b[0m\u001b[0mindex\u001b[0m\u001b[0;34m[\u001b[0m\u001b[0mchartevents_vcs\u001b[0m\u001b[0;34m[\u001b[0m\u001b[0;34m'prop_numeric'\u001b[0m\u001b[0;34m]\u001b[0m \u001b[0;34m<=\u001b[0m \u001b[0;36m.5\u001b[0m\u001b[0;34m]\u001b[0m\u001b[0;34m\u001b[0m\u001b[0;34m\u001b[0m\u001b[0m\n",
      "\u001b[0;32m<ipython-input-37-f1a4d0c0822e>\u001b[0m in \u001b[0;36mnumeric_nonnumeric\u001b[0;34m(df)\u001b[0m\n\u001b[1;32m      1\u001b[0m \u001b[0;32mdef\u001b[0m \u001b[0mnumeric_nonnumeric\u001b[0m\u001b[0;34m(\u001b[0m\u001b[0mdf\u001b[0m\u001b[0;34m)\u001b[0m\u001b[0;34m:\u001b[0m\u001b[0;34m\u001b[0m\u001b[0;34m\u001b[0m\u001b[0m\n\u001b[0;32m----> 2\u001b[0;31m     \u001b[0mnn\u001b[0m \u001b[0;34m=\u001b[0m \u001b[0mdf\u001b[0m\u001b[0;34m[\u001b[0m\u001b[0mdf\u001b[0m\u001b[0;34m[\u001b[0m\u001b[0;34m'VALUENUM'\u001b[0m\u001b[0;34m]\u001b[0m\u001b[0;34m.\u001b[0m\u001b[0misna\u001b[0m\u001b[0;34m(\u001b[0m\u001b[0;34m)\u001b[0m\u001b[0;34m]\u001b[0m\u001b[0;34m[\u001b[0m\u001b[0;34m'ITEMID'\u001b[0m\u001b[0;34m]\u001b[0m\u001b[0;34m.\u001b[0m\u001b[0mvalue_counts\u001b[0m\u001b[0;34m(\u001b[0m\u001b[0;34m)\u001b[0m\u001b[0;34m\u001b[0m\u001b[0;34m\u001b[0m\u001b[0m\n\u001b[0m\u001b[1;32m      3\u001b[0m     \u001b[0mn\u001b[0m \u001b[0;34m=\u001b[0m \u001b[0mdf\u001b[0m\u001b[0;34m[\u001b[0m\u001b[0;34m~\u001b[0m\u001b[0mdf\u001b[0m\u001b[0;34m[\u001b[0m\u001b[0;34m'VALUENUM'\u001b[0m\u001b[0;34m]\u001b[0m\u001b[0;34m.\u001b[0m\u001b[0misna\u001b[0m\u001b[0;34m(\u001b[0m\u001b[0;34m)\u001b[0m\u001b[0;34m]\u001b[0m\u001b[0;34m[\u001b[0m\u001b[0;34m'ITEMID'\u001b[0m\u001b[0;34m]\u001b[0m\u001b[0;34m.\u001b[0m\u001b[0mvalue_counts\u001b[0m\u001b[0;34m(\u001b[0m\u001b[0;34m)\u001b[0m\u001b[0;34m\u001b[0m\u001b[0;34m\u001b[0m\u001b[0m\n\u001b[1;32m      4\u001b[0m     \u001b[0mvcs\u001b[0m \u001b[0;34m=\u001b[0m \u001b[0mpd\u001b[0m\u001b[0;34m.\u001b[0m\u001b[0mconcat\u001b[0m\u001b[0;34m(\u001b[0m\u001b[0;34m[\u001b[0m\u001b[0mn\u001b[0m\u001b[0;34m,\u001b[0m \u001b[0mnn\u001b[0m\u001b[0;34m]\u001b[0m\u001b[0;34m,\u001b[0m \u001b[0maxis\u001b[0m\u001b[0;34m=\u001b[0m\u001b[0;36m1\u001b[0m\u001b[0;34m)\u001b[0m\u001b[0;34m.\u001b[0m\u001b[0mfillna\u001b[0m\u001b[0;34m(\u001b[0m\u001b[0;36m0\u001b[0m\u001b[0;34m)\u001b[0m\u001b[0;34m\u001b[0m\u001b[0;34m\u001b[0m\u001b[0m\n\u001b[1;32m      5\u001b[0m     \u001b[0mvcs\u001b[0m\u001b[0;34m.\u001b[0m\u001b[0mcolumns\u001b[0m \u001b[0;34m=\u001b[0m \u001b[0;34m[\u001b[0m\u001b[0;34m'numeric'\u001b[0m\u001b[0;34m,\u001b[0m \u001b[0;34m'nonnumeric'\u001b[0m\u001b[0;34m]\u001b[0m\u001b[0;34m\u001b[0m\u001b[0;34m\u001b[0m\u001b[0m\n",
      "\u001b[0;32m/opt/anaconda3/lib/python3.7/site-packages/pandas/core/frame.py\u001b[0m in \u001b[0;36m__getitem__\u001b[0;34m(self, key)\u001b[0m\n\u001b[1;32m   2969\u001b[0m         \u001b[0;31m# Do we have a (boolean) 1d indexer?\u001b[0m\u001b[0;34m\u001b[0m\u001b[0;34m\u001b[0m\u001b[0;34m\u001b[0m\u001b[0m\n\u001b[1;32m   2970\u001b[0m         \u001b[0;32mif\u001b[0m \u001b[0mcom\u001b[0m\u001b[0;34m.\u001b[0m\u001b[0mis_bool_indexer\u001b[0m\u001b[0;34m(\u001b[0m\u001b[0mkey\u001b[0m\u001b[0;34m)\u001b[0m\u001b[0;34m:\u001b[0m\u001b[0;34m\u001b[0m\u001b[0;34m\u001b[0m\u001b[0m\n\u001b[0;32m-> 2971\u001b[0;31m             \u001b[0;32mreturn\u001b[0m \u001b[0mself\u001b[0m\u001b[0;34m.\u001b[0m\u001b[0m_getitem_bool_array\u001b[0m\u001b[0;34m(\u001b[0m\u001b[0mkey\u001b[0m\u001b[0;34m)\u001b[0m\u001b[0;34m\u001b[0m\u001b[0;34m\u001b[0m\u001b[0m\n\u001b[0m\u001b[1;32m   2972\u001b[0m \u001b[0;34m\u001b[0m\u001b[0m\n\u001b[1;32m   2973\u001b[0m         \u001b[0;31m# We are left with two options: a single key, and a collection of keys,\u001b[0m\u001b[0;34m\u001b[0m\u001b[0;34m\u001b[0m\u001b[0;34m\u001b[0m\u001b[0m\n",
      "\u001b[0;32m/opt/anaconda3/lib/python3.7/site-packages/pandas/core/frame.py\u001b[0m in \u001b[0;36m_getitem_bool_array\u001b[0;34m(self, key)\u001b[0m\n\u001b[1;32m   3022\u001b[0m         \u001b[0;31m# be reindexed to match DataFrame rows\u001b[0m\u001b[0;34m\u001b[0m\u001b[0;34m\u001b[0m\u001b[0;34m\u001b[0m\u001b[0m\n\u001b[1;32m   3023\u001b[0m         \u001b[0mkey\u001b[0m \u001b[0;34m=\u001b[0m \u001b[0mcheck_bool_indexer\u001b[0m\u001b[0;34m(\u001b[0m\u001b[0mself\u001b[0m\u001b[0;34m.\u001b[0m\u001b[0mindex\u001b[0m\u001b[0;34m,\u001b[0m \u001b[0mkey\u001b[0m\u001b[0;34m)\u001b[0m\u001b[0;34m\u001b[0m\u001b[0;34m\u001b[0m\u001b[0m\n\u001b[0;32m-> 3024\u001b[0;31m         \u001b[0mindexer\u001b[0m \u001b[0;34m=\u001b[0m \u001b[0mkey\u001b[0m\u001b[0;34m.\u001b[0m\u001b[0mnonzero\u001b[0m\u001b[0;34m(\u001b[0m\u001b[0;34m)\u001b[0m\u001b[0;34m[\u001b[0m\u001b[0;36m0\u001b[0m\u001b[0;34m]\u001b[0m\u001b[0;34m\u001b[0m\u001b[0;34m\u001b[0m\u001b[0m\n\u001b[0m\u001b[1;32m   3025\u001b[0m         \u001b[0;32mreturn\u001b[0m \u001b[0mself\u001b[0m\u001b[0;34m.\u001b[0m\u001b[0mtake\u001b[0m\u001b[0;34m(\u001b[0m\u001b[0mindexer\u001b[0m\u001b[0;34m,\u001b[0m \u001b[0maxis\u001b[0m\u001b[0;34m=\u001b[0m\u001b[0;36m0\u001b[0m\u001b[0;34m)\u001b[0m\u001b[0;34m\u001b[0m\u001b[0;34m\u001b[0m\u001b[0m\n\u001b[1;32m   3026\u001b[0m \u001b[0;34m\u001b[0m\u001b[0m\n",
      "\u001b[0;31mKeyboardInterrupt\u001b[0m: "
     ]
    }
   ],
   "source": [
    "chartevents_vcs = numeric_nonnumeric(chartevents)[:80]\n",
    "\n",
    "chartevent_numeric_itemids = chartevents_vcs.index[chartevents_vcs['prop_numeric'] > .5]\n",
    "chartevent_nonnumeric_itemids = chartevents_vcs.index[chartevents_vcs['prop_numeric'] <= .5]"
   ]
  },
  {
   "cell_type": "code",
   "execution_count": 36,
   "metadata": {},
   "outputs": [
    {
     "data": {
      "text/plain": [
       "(42, 38)"
      ]
     },
     "execution_count": 36,
     "metadata": {},
     "output_type": "execute_result"
    }
   ],
   "source": [
    "len(chartevent_numeric_itemids), len(chartevent_nonnumeric_itemids)"
   ]
  },
  {
   "cell_type": "markdown",
   "metadata": {},
   "source": [
    "- for chart events, we use the top 80 features\n",
    "- # occurrences for each feature as well as mean, min, max for numeric features\n",
    "\n",
    "- for lab events, we use the top 30 features\n",
    "- # occurrences for each feature as well as mean, min, max for numeric features\n",
    "\n",
    "- for outputevents, we use the top 10 features\n",
    "- # occurrences for each feature as well as sum for numeric features\n",
    "\n",
    "- up to 80 * 4 + 30 * 4 + 10 * 2 = 460 features"
   ]
  },
  {
   "cell_type": "code",
   "execution_count": 75,
   "metadata": {},
   "outputs": [],
   "source": [
    "from datetime import datetime\n",
    "\n",
    "time_format = '%Y-%m-%d %H:%M:%S'\n",
    "\n",
    "def timediff_hours(t1, t2):\n",
    "    td = datetime.strptime(t2, time_format) - datetime.strptime(t1, time_format)\n",
    "    return td.total_seconds() / (60 * 60)\n",
    "\n",
    "def get_event_time(hadm_id, event_idx):\n",
    "    if (event_dict[hadm_id]['events'][event_idx][1] > 0) & (hadm_id in first_event_dict.keys()):\n",
    "        first_event = pd.Series(\n",
    "            [event_dict[hadm_id]['admission_time'],\n",
    "             event_dict[hadm_id]['first_chart_measurement'],\n",
    "             event_dict[hadm_id]['first_lab_measurement']],\n",
    "            index=[0, 1, 2]).min()\n",
    "        return timediff_hours(\n",
    "            first_event,\n",
    "            event_dict[hadm_id]['events'][event_idx][2])\n",
    "    else:\n",
    "        return np.nan"
   ]
  },
  {
   "cell_type": "code",
   "execution_count": null,
   "metadata": {},
   "outputs": [],
   "source": [
    "for batch_idx, batch in enumerate(get_batch(400, hadm_ids)):\n",
    "    batch_chartevents = chartevents[chartevents['HADM_ID'].isin(batch)]\n",
    "    batch_chartevents = batch_chartevents[batch_chartevents['ITEMID'].isin(chartevent_itemids)]\n",
    "    batch_chartevents = batch_chartevents[~batch_chartevents['CHARTTIME'].isna()]\n",
    "    batch_chartevents['CHARTTIME_HOURS'] = batch_chartevents.apply(\n",
    "        lambda x: timediff_hours(first_event_dict[x['HADM_ID']], x['CHARTTIME']),\n",
    "        axis=1)\n",
    "    batch_chartevents = batch_chartevents[batch_chartevents['CHARTTIME_HOURS'] <= 24]\n",
    "    batch_chartevents = batch_chartevents.drop('CHARTTIME', axis=1)\n",
    "    batch_chartevents.to_csv('../data/mimic/chartevents_%i.csv' % batch_idx, index=False)"
   ]
  },
  {
   "cell_type": "code",
   "execution_count": 56,
   "metadata": {},
   "outputs": [
    {
     "data": {
      "text/html": [
       "<div>\n",
       "<style scoped>\n",
       "    .dataframe tbody tr th:only-of-type {\n",
       "        vertical-align: middle;\n",
       "    }\n",
       "\n",
       "    .dataframe tbody tr th {\n",
       "        vertical-align: top;\n",
       "    }\n",
       "\n",
       "    .dataframe thead th {\n",
       "        text-align: right;\n",
       "    }\n",
       "</style>\n",
       "<table border=\"1\" class=\"dataframe\">\n",
       "  <thead>\n",
       "    <tr style=\"text-align: right;\">\n",
       "      <th></th>\n",
       "      <th>numeric</th>\n",
       "      <th>nonnumeric</th>\n",
       "      <th>total</th>\n",
       "      <th>label</th>\n",
       "      <th>prop_numeric</th>\n",
       "    </tr>\n",
       "  </thead>\n",
       "  <tbody>\n",
       "    <tr>\n",
       "      <td>51221</td>\n",
       "      <td>693723.0</td>\n",
       "      <td>65.0</td>\n",
       "      <td>693788.0</td>\n",
       "      <td>Hematocrit</td>\n",
       "      <td>0.999906</td>\n",
       "    </tr>\n",
       "    <tr>\n",
       "      <td>50971</td>\n",
       "      <td>669577.0</td>\n",
       "      <td>303.0</td>\n",
       "      <td>669880.0</td>\n",
       "      <td>Potassium</td>\n",
       "      <td>0.999548</td>\n",
       "    </tr>\n",
       "    <tr>\n",
       "      <td>50983</td>\n",
       "      <td>641818.0</td>\n",
       "      <td>55.0</td>\n",
       "      <td>641873.0</td>\n",
       "      <td>Sodium</td>\n",
       "      <td>0.999914</td>\n",
       "    </tr>\n",
       "    <tr>\n",
       "      <td>50902</td>\n",
       "      <td>631624.0</td>\n",
       "      <td>54.0</td>\n",
       "      <td>631678.0</td>\n",
       "      <td>Chloride</td>\n",
       "      <td>0.999915</td>\n",
       "    </tr>\n",
       "    <tr>\n",
       "      <td>50912</td>\n",
       "      <td>619497.0</td>\n",
       "      <td>125.0</td>\n",
       "      <td>619622.0</td>\n",
       "      <td>Creatinine</td>\n",
       "      <td>0.999798</td>\n",
       "    </tr>\n",
       "    <tr>\n",
       "      <td>50882</td>\n",
       "      <td>618435.0</td>\n",
       "      <td>183.0</td>\n",
       "      <td>618618.0</td>\n",
       "      <td>Bicarbonate</td>\n",
       "      <td>0.999704</td>\n",
       "    </tr>\n",
       "    <tr>\n",
       "      <td>51006</td>\n",
       "      <td>617255.0</td>\n",
       "      <td>29.0</td>\n",
       "      <td>617284.0</td>\n",
       "      <td>Urea Nitrogen</td>\n",
       "      <td>0.999953</td>\n",
       "    </tr>\n",
       "    <tr>\n",
       "      <td>50868</td>\n",
       "      <td>608359.0</td>\n",
       "      <td>7.0</td>\n",
       "      <td>608366.0</td>\n",
       "      <td>Anion Gap</td>\n",
       "      <td>0.999988</td>\n",
       "    </tr>\n",
       "    <tr>\n",
       "      <td>51265</td>\n",
       "      <td>598839.0</td>\n",
       "      <td>129.0</td>\n",
       "      <td>598968.0</td>\n",
       "      <td>Platelet Count</td>\n",
       "      <td>0.999785</td>\n",
       "    </tr>\n",
       "    <tr>\n",
       "      <td>50931</td>\n",
       "      <td>595596.0</td>\n",
       "      <td>39.0</td>\n",
       "      <td>595635.0</td>\n",
       "      <td>Glucose</td>\n",
       "      <td>0.999935</td>\n",
       "    </tr>\n",
       "    <tr>\n",
       "      <td>51301</td>\n",
       "      <td>577434.0</td>\n",
       "      <td>286.0</td>\n",
       "      <td>577720.0</td>\n",
       "      <td>White Blood Cells</td>\n",
       "      <td>0.999505</td>\n",
       "    </tr>\n",
       "    <tr>\n",
       "      <td>51222</td>\n",
       "      <td>576944.0</td>\n",
       "      <td>106.0</td>\n",
       "      <td>577050.0</td>\n",
       "      <td>Hemoglobin</td>\n",
       "      <td>0.999816</td>\n",
       "    </tr>\n",
       "    <tr>\n",
       "      <td>51249</td>\n",
       "      <td>573354.0</td>\n",
       "      <td>155.0</td>\n",
       "      <td>573509.0</td>\n",
       "      <td>MCHC</td>\n",
       "      <td>0.999730</td>\n",
       "    </tr>\n",
       "    <tr>\n",
       "      <td>51279</td>\n",
       "      <td>573056.0</td>\n",
       "      <td>320.0</td>\n",
       "      <td>573376.0</td>\n",
       "      <td>Red Blood Cells</td>\n",
       "      <td>0.999442</td>\n",
       "    </tr>\n",
       "    <tr>\n",
       "      <td>51248</td>\n",
       "      <td>573050.0</td>\n",
       "      <td>322.0</td>\n",
       "      <td>573372.0</td>\n",
       "      <td>MCH</td>\n",
       "      <td>0.999438</td>\n",
       "    </tr>\n",
       "    <tr>\n",
       "      <td>51250</td>\n",
       "      <td>573043.0</td>\n",
       "      <td>326.0</td>\n",
       "      <td>573369.0</td>\n",
       "      <td>MCV</td>\n",
       "      <td>0.999431</td>\n",
       "    </tr>\n",
       "    <tr>\n",
       "      <td>51277</td>\n",
       "      <td>572063.0</td>\n",
       "      <td>306.0</td>\n",
       "      <td>572369.0</td>\n",
       "      <td>RDW</td>\n",
       "      <td>0.999465</td>\n",
       "    </tr>\n",
       "    <tr>\n",
       "      <td>50960</td>\n",
       "      <td>559484.0</td>\n",
       "      <td>33.0</td>\n",
       "      <td>559517.0</td>\n",
       "      <td>Magnesium</td>\n",
       "      <td>0.999941</td>\n",
       "    </tr>\n",
       "    <tr>\n",
       "      <td>50820</td>\n",
       "      <td>524510.0</td>\n",
       "      <td>90.0</td>\n",
       "      <td>524600.0</td>\n",
       "      <td>pH</td>\n",
       "      <td>0.999828</td>\n",
       "    </tr>\n",
       "    <tr>\n",
       "      <td>50970</td>\n",
       "      <td>489956.0</td>\n",
       "      <td>34.0</td>\n",
       "      <td>489990.0</td>\n",
       "      <td>Phosphate</td>\n",
       "      <td>0.999931</td>\n",
       "    </tr>\n",
       "    <tr>\n",
       "      <td>50802</td>\n",
       "      <td>485489.0</td>\n",
       "      <td>117.0</td>\n",
       "      <td>485606.0</td>\n",
       "      <td>Base Excess</td>\n",
       "      <td>0.999759</td>\n",
       "    </tr>\n",
       "    <tr>\n",
       "      <td>50804</td>\n",
       "      <td>485489.0</td>\n",
       "      <td>105.0</td>\n",
       "      <td>485594.0</td>\n",
       "      <td>Calculated Total CO2</td>\n",
       "      <td>0.999784</td>\n",
       "    </tr>\n",
       "    <tr>\n",
       "      <td>50821</td>\n",
       "      <td>485486.0</td>\n",
       "      <td>100.0</td>\n",
       "      <td>485586.0</td>\n",
       "      <td>pO2</td>\n",
       "      <td>0.999794</td>\n",
       "    </tr>\n",
       "    <tr>\n",
       "      <td>50818</td>\n",
       "      <td>485467.0</td>\n",
       "      <td>85.0</td>\n",
       "      <td>485552.0</td>\n",
       "      <td>pCO2</td>\n",
       "      <td>0.999825</td>\n",
       "    </tr>\n",
       "    <tr>\n",
       "      <td>50893</td>\n",
       "      <td>484677.0</td>\n",
       "      <td>24.0</td>\n",
       "      <td>484701.0</td>\n",
       "      <td>Calcium, Total</td>\n",
       "      <td>0.999950</td>\n",
       "    </tr>\n",
       "    <tr>\n",
       "      <td>51275</td>\n",
       "      <td>402357.0</td>\n",
       "      <td>1210.0</td>\n",
       "      <td>403567.0</td>\n",
       "      <td>PTT</td>\n",
       "      <td>0.997002</td>\n",
       "    </tr>\n",
       "    <tr>\n",
       "      <td>50800</td>\n",
       "      <td>0.0</td>\n",
       "      <td>398697.0</td>\n",
       "      <td>398697.0</td>\n",
       "      <td>SPECIMEN TYPE</td>\n",
       "      <td>0.000000</td>\n",
       "    </tr>\n",
       "    <tr>\n",
       "      <td>51237</td>\n",
       "      <td>378331.0</td>\n",
       "      <td>237.0</td>\n",
       "      <td>378568.0</td>\n",
       "      <td>INR(PT)</td>\n",
       "      <td>0.999374</td>\n",
       "    </tr>\n",
       "    <tr>\n",
       "      <td>51274</td>\n",
       "      <td>378093.0</td>\n",
       "      <td>136.0</td>\n",
       "      <td>378229.0</td>\n",
       "      <td>PT</td>\n",
       "      <td>0.999640</td>\n",
       "    </tr>\n",
       "    <tr>\n",
       "      <td>50808</td>\n",
       "      <td>246155.0</td>\n",
       "      <td>53.0</td>\n",
       "      <td>246208.0</td>\n",
       "      <td>Free Calcium</td>\n",
       "      <td>0.999785</td>\n",
       "    </tr>\n",
       "    <tr>\n",
       "      <td>50809</td>\n",
       "      <td>193134.0</td>\n",
       "      <td>119.0</td>\n",
       "      <td>193253.0</td>\n",
       "      <td>Glucose</td>\n",
       "      <td>0.999384</td>\n",
       "    </tr>\n",
       "  </tbody>\n",
       "</table>\n",
       "</div>"
      ],
      "text/plain": [
       "        numeric  nonnumeric     total                 label  prop_numeric\n",
       "51221  693723.0        65.0  693788.0            Hematocrit      0.999906\n",
       "50971  669577.0       303.0  669880.0             Potassium      0.999548\n",
       "50983  641818.0        55.0  641873.0                Sodium      0.999914\n",
       "50902  631624.0        54.0  631678.0              Chloride      0.999915\n",
       "50912  619497.0       125.0  619622.0            Creatinine      0.999798\n",
       "50882  618435.0       183.0  618618.0           Bicarbonate      0.999704\n",
       "51006  617255.0        29.0  617284.0         Urea Nitrogen      0.999953\n",
       "50868  608359.0         7.0  608366.0             Anion Gap      0.999988\n",
       "51265  598839.0       129.0  598968.0        Platelet Count      0.999785\n",
       "50931  595596.0        39.0  595635.0               Glucose      0.999935\n",
       "51301  577434.0       286.0  577720.0     White Blood Cells      0.999505\n",
       "51222  576944.0       106.0  577050.0            Hemoglobin      0.999816\n",
       "51249  573354.0       155.0  573509.0                  MCHC      0.999730\n",
       "51279  573056.0       320.0  573376.0       Red Blood Cells      0.999442\n",
       "51248  573050.0       322.0  573372.0                   MCH      0.999438\n",
       "51250  573043.0       326.0  573369.0                   MCV      0.999431\n",
       "51277  572063.0       306.0  572369.0                   RDW      0.999465\n",
       "50960  559484.0        33.0  559517.0             Magnesium      0.999941\n",
       "50820  524510.0        90.0  524600.0                    pH      0.999828\n",
       "50970  489956.0        34.0  489990.0             Phosphate      0.999931\n",
       "50802  485489.0       117.0  485606.0           Base Excess      0.999759\n",
       "50804  485489.0       105.0  485594.0  Calculated Total CO2      0.999784\n",
       "50821  485486.0       100.0  485586.0                   pO2      0.999794\n",
       "50818  485467.0        85.0  485552.0                  pCO2      0.999825\n",
       "50893  484677.0        24.0  484701.0        Calcium, Total      0.999950\n",
       "51275  402357.0      1210.0  403567.0                   PTT      0.997002\n",
       "50800       0.0    398697.0  398697.0         SPECIMEN TYPE      0.000000\n",
       "51237  378331.0       237.0  378568.0               INR(PT)      0.999374\n",
       "51274  378093.0       136.0  378229.0                    PT      0.999640\n",
       "50808  246155.0        53.0  246208.0          Free Calcium      0.999785\n",
       "50809  193134.0       119.0  193253.0               Glucose      0.999384"
      ]
     },
     "execution_count": 56,
     "metadata": {},
     "output_type": "execute_result"
    }
   ],
   "source": [
    "nn = labevents[labevents['VALUENUM'].isna()]['ITEMID'].value_counts()\n",
    "n = labevents[~labevents['VALUENUM'].isna()]['ITEMID'].value_counts()\n",
    "vcs = pd.concat([n, nn], axis=1).fillna(0)\n",
    "vcs.columns = ['numeric', 'nonnumeric']\n",
    "vcs['total'] = vcs.sum(axis=1)\n",
    "vcs['label'] = vcs.index.map(lambda x: all_event_dict[x])\n",
    "vcs['prop_numeric'] = vcs['numeric'] / vcs['total']\n",
    "vcs = vcs.sort_values('total', ascending=False)\n",
    "vcs.head(31)"
   ]
  },
  {
   "cell_type": "code",
   "execution_count": 54,
   "metadata": {
    "scrolled": true
   },
   "outputs": [],
   "source": [
    "labevent_itemids = np.delete(labevents['ITEMID'].value_counts().index[:31].values, -5)"
   ]
  },
  {
   "cell_type": "code",
   "execution_count": null,
   "metadata": {},
   "outputs": [],
   "source": [
    "labevent_numeric_itemids = labevents_vcs.index[labevents_vcs['prop_numeric'] > .5]\n",
    "labevent_nonnumeric_itemids = labevents_vcs.index[labevents_vcs['prop_numeric'] <= .5]"
   ]
  },
  {
   "cell_type": "code",
   "execution_count": null,
   "metadata": {},
   "outputs": [],
   "source": [
    "for batch_idx, batch in enumerate(get_batch(400, hadm_ids)):\n",
    "    batch_labevents = labevents[labevents['HADM_ID'].isin(batch)]\n",
    "    batch_labevents = batch_labevents[batch_labevents['ITEMID'].isin(labevent_itemids)]\n",
    "    batch_labevents = batch_labevents[~batch_labevents['CHARTTIME'].isna()]\n",
    "    batch_labevents['CHARTTIME_HOURS'] = batch_labevents.apply(\n",
    "        lambda x: timediff_hours(first_event_dict[x['HADM_ID']], x['CHARTTIME']),\n",
    "        axis=1)\n",
    "    batch_labevents = batch_labevents[batch_labevents['CHARTTIME_HOURS'] <= 24]\n",
    "    batch_labevents = batch_labevents.drop('CHARTTIME', axis=1)\n",
    "    batch_labevents.to_csv('../data/mimic/labevents_%i.csv' % batch_idx, index=False)"
   ]
  },
  {
   "cell_type": "code",
   "execution_count": 60,
   "metadata": {},
   "outputs": [],
   "source": [
    "outputevents = pd.read_csv(\n",
    "    '/Users/mme/Downloads/OUTPUTEVENTS.csv',\n",
    "    usecols=['HADM_ID', 'ITEMID', 'CHARTTIME', 'VALUE'],\n",
    "    dtype={'HADM_ID': float, 'ITEMID': int, 'CHARTTIME': str, 'VALUE': float})\n",
    "outputevents = outputevents[~outputevents['HADM_ID'].isna()]\n",
    "outputevents['HADM_ID'] = outputevents['HADM_ID'].astype(int)\n",
    "outputevents['VALUENUM'] = outputevents['VALUE']"
   ]
  },
  {
   "cell_type": "code",
   "execution_count": 63,
   "metadata": {},
   "outputs": [
    {
     "data": {
      "text/html": [
       "<div>\n",
       "<style scoped>\n",
       "    .dataframe tbody tr th:only-of-type {\n",
       "        vertical-align: middle;\n",
       "    }\n",
       "\n",
       "    .dataframe tbody tr th {\n",
       "        vertical-align: top;\n",
       "    }\n",
       "\n",
       "    .dataframe thead th {\n",
       "        text-align: right;\n",
       "    }\n",
       "</style>\n",
       "<table border=\"1\" class=\"dataframe\">\n",
       "  <thead>\n",
       "    <tr style=\"text-align: right;\">\n",
       "      <th></th>\n",
       "      <th>numeric</th>\n",
       "      <th>nonnumeric</th>\n",
       "      <th>total</th>\n",
       "      <th>label</th>\n",
       "      <th>prop_numeric</th>\n",
       "    </tr>\n",
       "  </thead>\n",
       "  <tbody>\n",
       "    <tr>\n",
       "      <td>40055</td>\n",
       "      <td>1908201.0</td>\n",
       "      <td>5838.0</td>\n",
       "      <td>1914039.0</td>\n",
       "      <td>Urine Out Foley</td>\n",
       "      <td>0.996950</td>\n",
       "    </tr>\n",
       "    <tr>\n",
       "      <td>226559</td>\n",
       "      <td>1186717.0</td>\n",
       "      <td>0.0</td>\n",
       "      <td>1186717.0</td>\n",
       "      <td>Foley</td>\n",
       "      <td>1.000000</td>\n",
       "    </tr>\n",
       "    <tr>\n",
       "      <td>40076</td>\n",
       "      <td>151572.0</td>\n",
       "      <td>945.0</td>\n",
       "      <td>152517.0</td>\n",
       "      <td>Chest Tubes CTICU CT 1</td>\n",
       "      <td>0.993804</td>\n",
       "    </tr>\n",
       "    <tr>\n",
       "      <td>43175</td>\n",
       "      <td>107462.0</td>\n",
       "      <td>1517.0</td>\n",
       "      <td>108979.0</td>\n",
       "      <td>Urine .</td>\n",
       "      <td>0.986080</td>\n",
       "    </tr>\n",
       "    <tr>\n",
       "      <td>40054</td>\n",
       "      <td>22076.0</td>\n",
       "      <td>59624.0</td>\n",
       "      <td>81700.0</td>\n",
       "      <td>Stool Out Stool</td>\n",
       "      <td>0.270208</td>\n",
       "    </tr>\n",
       "    <tr>\n",
       "      <td>226588</td>\n",
       "      <td>81128.0</td>\n",
       "      <td>0.0</td>\n",
       "      <td>81128.0</td>\n",
       "      <td>Chest Tube #1</td>\n",
       "      <td>1.000000</td>\n",
       "    </tr>\n",
       "    <tr>\n",
       "      <td>40069</td>\n",
       "      <td>63882.0</td>\n",
       "      <td>5109.0</td>\n",
       "      <td>68991.0</td>\n",
       "      <td>Urine Out Void</td>\n",
       "      <td>0.925947</td>\n",
       "    </tr>\n",
       "    <tr>\n",
       "      <td>226560</td>\n",
       "      <td>63020.0</td>\n",
       "      <td>0.0</td>\n",
       "      <td>63020.0</td>\n",
       "      <td>Void</td>\n",
       "      <td>1.000000</td>\n",
       "    </tr>\n",
       "    <tr>\n",
       "      <td>40286</td>\n",
       "      <td>61991.0</td>\n",
       "      <td>307.0</td>\n",
       "      <td>62298.0</td>\n",
       "      <td>Ultrafiltrate Ultrafiltrate</td>\n",
       "      <td>0.995072</td>\n",
       "    </tr>\n",
       "    <tr>\n",
       "      <td>40071</td>\n",
       "      <td>28417.0</td>\n",
       "      <td>414.0</td>\n",
       "      <td>28831.0</td>\n",
       "      <td>Drain Out #1 Jackson Pratt</td>\n",
       "      <td>0.985640</td>\n",
       "    </tr>\n",
       "  </tbody>\n",
       "</table>\n",
       "</div>"
      ],
      "text/plain": [
       "          numeric  nonnumeric      total                        label  \\\n",
       "40055   1908201.0      5838.0  1914039.0              Urine Out Foley   \n",
       "226559  1186717.0         0.0  1186717.0                        Foley   \n",
       "40076    151572.0       945.0   152517.0       Chest Tubes CTICU CT 1   \n",
       "43175    107462.0      1517.0   108979.0                      Urine .   \n",
       "40054     22076.0     59624.0    81700.0              Stool Out Stool   \n",
       "226588    81128.0         0.0    81128.0                Chest Tube #1   \n",
       "40069     63882.0      5109.0    68991.0               Urine Out Void   \n",
       "226560    63020.0         0.0    63020.0                         Void   \n",
       "40286     61991.0       307.0    62298.0  Ultrafiltrate Ultrafiltrate   \n",
       "40071     28417.0       414.0    28831.0   Drain Out #1 Jackson Pratt   \n",
       "\n",
       "        prop_numeric  \n",
       "40055       0.996950  \n",
       "226559      1.000000  \n",
       "40076       0.993804  \n",
       "43175       0.986080  \n",
       "40054       0.270208  \n",
       "226588      1.000000  \n",
       "40069       0.925947  \n",
       "226560      1.000000  \n",
       "40286       0.995072  \n",
       "40071       0.985640  "
      ]
     },
     "execution_count": 63,
     "metadata": {},
     "output_type": "execute_result"
    }
   ],
   "source": [
    "nn = outputevents[outputevents['VALUENUM'].isna()]['ITEMID'].value_counts()\n",
    "n = outputevents[~outputevents['VALUENUM'].isna()]['ITEMID'].value_counts()\n",
    "vcs = pd.concat([n, nn], axis=1).fillna(0)\n",
    "vcs.columns = ['numeric', 'nonnumeric']\n",
    "vcs['total'] = vcs.sum(axis=1)\n",
    "vcs['label'] = vcs.index.map(lambda x: all_event_dict[x])\n",
    "vcs['prop_numeric'] = vcs['numeric'] / vcs['total']\n",
    "vcs = vcs.sort_values('total', ascending=False)\n",
    "vcs.head(10)"
   ]
  },
  {
   "cell_type": "code",
   "execution_count": 64,
   "metadata": {},
   "outputs": [],
   "source": [
    "outputevent_itemids = outputevents['ITEMID'].value_counts().index[:10]"
   ]
  },
  {
   "cell_type": "code",
   "execution_count": null,
   "metadata": {},
   "outputs": [],
   "source": [
    "for batch_idx, batch in enumerate(get_batch(400, hadm_ids)):\n",
    "    batch_outputevents = outputevents[outputevents['HADM_ID'].isin(batch)]\n",
    "    batch_outputevents = batch_outputevents[batch_outputevents['ITEMID'].isin(outputevent_itemids)]\n",
    "    batch_outputevents = batch_outputevents[~batch_outputevents['CHARTTIME'].isna()]\n",
    "    batch_outputevents['CHARTTIME_HOURS'] = batch_outputevents.apply(\n",
    "        lambda x: timediff_hours(first_event_dict[x['HADM_ID']], x['CHARTTIME']),\n",
    "        axis=1)\n",
    "    batch_outputevents = batch_outputevents[batch_outputevents['CHARTTIME_HOURS'] <= 24]\n",
    "    batch_outputevents = batch_outputevents.drop('CHARTTIME', axis=1)\n",
    "    batch_outputevents.to_csv('../data/mimic/outputevents_%i.csv' % batch_idx, index=False)"
   ]
  },
  {
   "cell_type": "code",
   "execution_count": 65,
   "metadata": {},
   "outputs": [],
   "source": [
    "# save itemids for chartevents, labevents, and outputevents\n",
    "itemid_dict = {\n",
    "    'chartevents_numeric': chartevent_numeric_itemids,\n",
    "    'chartevents_nonnumeric': chartevent_nonnumeric_itemids,\n",
    "    'labevents': labevent_itemids,\n",
    "    'outputevents': outputevent_itemids}\n",
    "\n",
    "import pickle\n",
    "with open('../data/mimic/itemid_dict.pickle', 'wb') as file:\n",
    "    pickle.dump(itemid_dict, file)"
   ]
  },
  {
   "cell_type": "code",
   "execution_count": null,
   "metadata": {},
   "outputs": [],
   "source": [
    "# get events of interest (that we will predict)\n",
    "\n",
    "event_dict = dict()\n",
    "event_counts = [0] * len(lab_event_ids)\n",
    "\n",
    "for i, group in labevents.groupby('HADM_ID'):\n",
    "    user_dict = dict()\n",
    "    if i not in first_event_dict.keys():\n",
    "        continue\n",
    "    user_dict['admission_time'] = admission_time[i]\n",
    "    user_dict['first_chart_measurement'] = first_event_dict[i]\n",
    "    user_dict['first_lab_measurement'] = group['CHARTTIME'].min()\n",
    "    user_dict['last_lab_measurement'] = group['CHARTTIME'].max()\n",
    "    user_dict['num_lab_measurements'] = len(group)\n",
    "    user_events = []\n",
    "    for j, ids in enumerate(lab_event_ids):\n",
    "        event_indices = group['ITEMID'].isin(ids)\n",
    "        num_events = event_indices.astype(int).sum()\n",
    "        if num_events > 0:\n",
    "            event_counts[j] += 1\n",
    "            first_event_time = group[event_indices]['CHARTTIME'].values[0]\n",
    "        else:\n",
    "            first_event_time = '9999-01-01 12:00:00'\n",
    "        user_events.append((lab_event_dict[ids[0]], num_events, first_event_time))\n",
    "    user_dict['events'] = user_events\n",
    "    event_dict[i] = user_dict\n",
    "\n",
    "import pickle\n",
    "with open('../data/mimic/events.pickle', 'wb') as file:\n",
    "    pickle.dump(event_dict, file)\n",
    "\n",
    "event_proportions = np.array(event_counts) / len(labevents['HADM_ID'].unique())\n",
    "print([(l, '%.1f%% of admissions' % (e * 100)) for l, e in zip(lab_event_labels, event_proportions)])"
   ]
  },
  {
   "cell_type": "code",
   "execution_count": 80,
   "metadata": {
    "scrolled": false
   },
   "outputs": [
    {
     "name": "stderr",
     "output_type": "stream",
     "text": [
      "/opt/anaconda3/lib/python3.7/site-packages/ipykernel_launcher.py:9: RuntimeWarning: invalid value encountered in less\n",
      "  if __name__ == '__main__':\n"
     ]
    },
    {
     "data": {
      "image/png": "[encoded data removed]",
      "text/plain": [
       "<Figure size 1296x1800 with 10 Axes>"
      ]
     },
     "metadata": {
      "needs_background": "light"
     },
     "output_type": "display_data"
    }
   ],
   "source": [
    "event_times = []\n",
    "\n",
    "fig, ax = plt.subplots(5, 2, figsize=(18, 25))\n",
    "\n",
    "for i, lbl in enumerate(lab_event_labels):\n",
    "    \n",
    "    event_i_times = np.array([get_event_time(hadm_id, i) for hadm_id in event_dict.keys()])\n",
    "    event_times.append(event_i_times)\n",
    "    ax[i // 2, i % 2].hist(event_i_times[event_i_times<100])\n",
    "    ax[i // 2, i % 2].set_title(lbl, fontsize=20)\n",
    "    \n",
    "plt.tight_layout()\n",
    "plt.show()"
   ]
  },
  {
   "cell_type": "code",
   "execution_count": null,
   "metadata": {},
   "outputs": [],
   "source": []
  }
 ],
 "metadata": {
  "kernelspec": {
   "display_name": "Python 3",
   "language": "python",
   "name": "python3"
  },
  "language_info": {
   "codemirror_mode": {
    "name": "ipython",
    "version": 3
   },
   "file_extension": ".py",
   "mimetype": "text/x-python",
   "name": "python",
   "nbconvert_exporter": "python",
   "pygments_lexer": "ipython3",
   "version": "3.7.4"
  }
 },
 "nbformat": 4,
 "nbformat_minor": 2
}
