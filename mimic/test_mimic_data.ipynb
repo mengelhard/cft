{
 "cells": [
  {
   "cell_type": "code",
   "execution_count": 1,
   "metadata": {},
   "outputs": [],
   "source": [
    "import numpy as np\n",
    "import pandas as pd\n",
    "import sys\n",
    "import os\n",
    "sys.path.append('../src')\n",
    "\n",
    "MIMIC_DIR = '/Users/mme/projects/cft/data/mimic'"
   ]
  },
  {
   "cell_type": "code",
   "execution_count": 2,
   "metadata": {},
   "outputs": [],
   "source": [
    "import pickle\n",
    "\n",
    "def load_pickle(fn):\n",
    "    with open(fn, 'rb') as file:\n",
    "        p = pickle.load(file)\n",
    "    return p"
   ]
  },
  {
   "cell_type": "code",
   "execution_count": 3,
   "metadata": {},
   "outputs": [],
   "source": [
    "lab_event_dict = pd.read_csv('/Users/mme/Downloads/D_LABITEMS.csv').set_index('ITEMID')['LABEL'].to_dict()\n",
    "chart_event_dict = pd.read_csv('/Users/mme/Downloads/D_ITEMS.csv').set_index('ITEMID')['LABEL'].to_dict()\n",
    "all_event_dict = {**lab_event_dict, **chart_event_dict}\n",
    "\n",
    "edict = load_pickle(os.path.join(MIMIC_DIR, 'events.pickle'))\n",
    "fdict = load_pickle(os.path.join(MIMIC_DIR, 'itemid_dict.pickle'))"
   ]
  },
  {
   "cell_type": "code",
   "execution_count": 4,
   "metadata": {
    "scrolled": true
   },
   "outputs": [
    {
     "name": "stderr",
     "output_type": "stream",
     "text": [
      "/opt/anaconda3/envs/tf-1.10/lib/python3.6/site-packages/numpy/lib/function_base.py:4033: RuntimeWarning: All-NaN slice encountered\n",
      "  r = func(a, **kwargs)\n"
     ]
    }
   ],
   "source": [
    "from model_mimic import load_batch\n",
    "\n",
    "x_frame, c, t, s = load_batch(20, edict, fdict, asframe=True, normalize=False)"
   ]
  },
  {
   "cell_type": "code",
   "execution_count": 9,
   "metadata": {},
   "outputs": [
    {
     "data": {
      "text/plain": [
       "HADM_ID\n",
       "100046    141.000000\n",
       "100202    134.500000\n",
       "100309    143.000000\n",
       "100757    139.000000\n",
       "101054    137.250000\n",
       "101264    140.333333\n",
       "101304    141.000000\n",
       "101525    139.333333\n",
       "101581    137.000000\n",
       "101982    142.000000\n",
       "102223    146.000000\n",
       "102628    141.000000\n",
       "102938    141.000000\n",
       "103631    140.000000\n",
       "103882    141.000000\n",
       "103988    137.142857\n",
       "104290    136.866667\n",
       "104605    139.000000\n",
       "104683    139.000000\n",
       "104867      0.000000\n",
       "105653    133.500000\n",
       "106234    140.000000\n",
       "106259    139.000000\n",
       "106471    140.000000\n",
       "106786    133.000000\n",
       "106809    139.000000\n",
       "107083    134.000000\n",
       "107089    139.000000\n",
       "107176    138.000000\n",
       "107337    144.000000\n",
       "107370      0.000000\n",
       "107414    139.000000\n",
       "107554    144.000000\n",
       "107668    137.000000\n",
       "108143    139.000000\n",
       "108197      0.000000\n",
       "108532    139.000000\n",
       "108752    139.000000\n",
       "108976    137.000000\n",
       "108977    144.000000\n",
       "Name: mean_50983, dtype: float64"
      ]
     },
     "execution_count": 9,
     "metadata": {},
     "output_type": "execute_result"
    }
   ],
   "source": [
    "x_frame['mean_50983'].head(40)"
   ]
  },
  {
   "cell_type": "code",
   "execution_count": null,
   "metadata": {},
   "outputs": [],
   "source": []
  }
 ],
 "metadata": {
  "kernelspec": {
   "display_name": "Python 3",
   "language": "python",
   "name": "python3"
  },
  "language_info": {
   "codemirror_mode": {
    "name": "ipython",
    "version": 3
   },
   "file_extension": ".py",
   "mimetype": "text/x-python",
   "name": "python",
   "nbconvert_exporter": "python",
   "pygments_lexer": "ipython3",
   "version": "3.6.9"
  }
 },
 "nbformat": 4,
 "nbformat_minor": 2
}
