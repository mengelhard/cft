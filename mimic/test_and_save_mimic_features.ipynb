{
 "cells": [
  {
   "cell_type": "code",
   "execution_count": 1,
   "metadata": {},
   "outputs": [],
   "source": [
    "import numpy as np\n",
    "import pandas as pd\n",
    "import sys\n",
    "import os\n",
    "sys.path.append('../src')\n",
    "\n",
    "MIMIC_DIR = '/Users/mme/projects/cft/data/mimic'"
   ]
  },
  {
   "cell_type": "code",
   "execution_count": 2,
   "metadata": {},
   "outputs": [],
   "source": [
    "import pickle\n",
    "\n",
    "def load_pickle(fn):\n",
    "    with open(fn, 'rb') as file:\n",
    "        p = pickle.load(file)\n",
    "    return p\n",
    "\n",
    "def save_pickle(a, fn):\n",
    "    with open(fn, 'wb') as file:\n",
    "        pickle.dump(a, file)"
   ]
  },
  {
   "cell_type": "code",
   "execution_count": 3,
   "metadata": {},
   "outputs": [],
   "source": [
    "lab_event_dict = pd.read_csv('/Users/mme/Downloads/D_LABITEMS.csv').set_index('ITEMID')['LABEL'].to_dict()\n",
    "chart_event_dict = pd.read_csv('/Users/mme/Downloads/D_ITEMS.csv').set_index('ITEMID')['LABEL'].to_dict()\n",
    "all_event_dict = {**lab_event_dict, **chart_event_dict}\n",
    "\n",
    "edict = load_pickle(os.path.join(MIMIC_DIR, 'events.pickle'))\n",
    "fdict = load_pickle(os.path.join(MIMIC_DIR, 'itemid_dict.pickle'))"
   ]
  },
  {
   "cell_type": "code",
   "execution_count": 6,
   "metadata": {
    "scrolled": true
   },
   "outputs": [],
   "source": [
    "from model_mimic import load_features\n",
    "\n",
    "for i in range(143):\n",
    "    ids, x = load_features(i, fdict)\n",
    "    save_pickle(x, '../data/mimic/all_features_%i.pickle' % i)\n",
    "    save_pickle(ids, '../data/mimic/hadm_ids_%i.pickle' % i)"
   ]
  },
  {
   "cell_type": "code",
   "execution_count": null,
   "metadata": {},
   "outputs": [],
   "source": []
  }
 ],
 "metadata": {
  "kernelspec": {
   "display_name": "Python 3",
   "language": "python",
   "name": "python3"
  },
  "language_info": {
   "codemirror_mode": {
    "name": "ipython",
    "version": 3
   },
   "file_extension": ".py",
   "mimetype": "text/x-python",
   "name": "python",
   "nbconvert_exporter": "python",
   "pygments_lexer": "ipython3",
   "version": "3.6.9"
  }
 },
 "nbformat": 4,
 "nbformat_minor": 2
}
